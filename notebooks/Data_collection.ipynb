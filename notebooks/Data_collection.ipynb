{
 "cells": [
  {
   "cell_type": "markdown",
   "id": "7c0df9fe-9d31-44ae-8c8b-3984f29a9dcd",
   "metadata": {},
   "source": [
    "# **DATA COLLECTION**"
   ]
  },
  {
   "cell_type": "markdown",
   "id": "edb79d66-2f1d-49b8-af70-10520f9a8705",
   "metadata": {},
   "source": [
    "### importing libraries"
   ]
  },
  {
   "cell_type": "code",
   "execution_count": 1,
   "id": "bae9a478-91ec-4012-894a-c8399f78c97b",
   "metadata": {},
   "outputs": [],
   "source": [
    "import pandas as pd\n",
    "import yfinance as yf\n",
    "import datetime \n",
    "import os"
   ]
  },
  {
   "cell_type": "markdown",
   "id": "b154b033-7f78-4df2-8df0-3ea7494122e2",
   "metadata": {},
   "source": [
    "### defining\n",
    "#### Initializing pair dictionary with keys(pairs) and values(timeframes)"
   ]
  },
  {
   "cell_type": "code",
   "execution_count": 2,
   "id": "3bd6ff06-b074-4123-a838-02a4c958ba4d",
   "metadata": {},
   "outputs": [],
   "source": [
    "pairs = {\n",
    "    \"XAUUSD\": [\"1h\", \"4h\", \"1d\", \"1wk\"],\n",
    "    \"US30\": [\"1h\", \"4h\", \"1d\", \"1wk\"],\n",
    "    \"GBPUSD\": [\"1h\", \"4h\", \"1d\", \"1wk\"]\n",
    "}"
   ]
  },
  {
   "cell_type": "markdown",
   "id": "7b12a5e9-fb8c-4d30-878d-3464c361e628",
   "metadata": {},
   "source": [
    "### Fetching-Yfinace API"
   ]
  },
  {
   "cell_type": "code",
   "execution_count": 3,
   "id": "e557fd4c-09ea-4879-ab52-0608a88cb130",
   "metadata": {},
   "outputs": [],
   "source": [
    "data_dir = './Data/Raw/'\n",
    "\n",
    "if not os.path.exists(data_dir):\n",
    "    os.makedirs(data_dir)"
   ]
  },
  {
   "cell_type": "code",
   "execution_count": 4,
   "id": "fc499010-41a1-464a-8b8c-52f68413d281",
   "metadata": {},
   "outputs": [
    {
     "name": "stderr",
     "output_type": "stream",
     "text": [
      "[*********************100%***********************]  1 of 1 completed\n",
      "\n",
      "1 Failed download:\n",
      "['XAUUSD']: YFPricesMissingError('$%ticker%: possibly delisted; no price data found  (period=20y) (Yahoo error = \"No data found, symbol may be delisted\")')\n"
     ]
    },
    {
     "name": "stdout",
     "output_type": "stream",
     "text": [
      "Warning: No data fetched for XAUUSD at 1h timeframe.\n"
     ]
    },
    {
     "name": "stderr",
     "output_type": "stream",
     "text": [
      "[*********************100%***********************]  1 of 1 completed\n",
      "\n",
      "1 Failed download:\n",
      "['XAUUSD']: YFPricesMissingError('$%ticker%: possibly delisted; no price data found  (period=20y) (Yahoo error = \"Invalid input - interval=4h is not supported. Valid intervals: [1m, 2m, 5m, 15m, 30m, 60m, 90m, 1h, 1d, 5d, 1wk, 1mo, 3mo]\")')\n"
     ]
    },
    {
     "name": "stdout",
     "output_type": "stream",
     "text": [
      "Warning: No data fetched for XAUUSD at 4h timeframe.\n"
     ]
    },
    {
     "name": "stderr",
     "output_type": "stream",
     "text": [
      "[*********************100%***********************]  1 of 1 completed\n",
      "\n",
      "1 Failed download:\n",
      "['XAUUSD']: YFPricesMissingError('$%ticker%: possibly delisted; no price data found  (period=20y) (Yahoo error = \"No data found, symbol may be delisted\")')\n"
     ]
    },
    {
     "name": "stdout",
     "output_type": "stream",
     "text": [
      "Warning: No data fetched for XAUUSD at 1d timeframe.\n"
     ]
    },
    {
     "name": "stderr",
     "output_type": "stream",
     "text": [
      "[*********************100%***********************]  1 of 1 completed\n",
      "\n",
      "1 Failed download:\n",
      "['XAUUSD']: YFPricesMissingError('$%ticker%: possibly delisted; no price data found  (period=20y) (Yahoo error = \"No data found, symbol may be delisted\")')\n"
     ]
    },
    {
     "name": "stdout",
     "output_type": "stream",
     "text": [
      "Warning: No data fetched for XAUUSD at 1wk timeframe.\n"
     ]
    },
    {
     "name": "stderr",
     "output_type": "stream",
     "text": [
      "[*********************100%***********************]  1 of 1 completed\n",
      "\n",
      "1 Failed download:\n",
      "['US30']: YFPricesMissingError('$%ticker%: possibly delisted; no price data found  (period=20y) (Yahoo error = \"No data found, symbol may be delisted\")')\n"
     ]
    },
    {
     "name": "stdout",
     "output_type": "stream",
     "text": [
      "Warning: No data fetched for US30 at 1h timeframe.\n"
     ]
    },
    {
     "name": "stderr",
     "output_type": "stream",
     "text": [
      "[*********************100%***********************]  1 of 1 completed\n",
      "\n",
      "1 Failed download:\n",
      "['US30']: YFPricesMissingError('$%ticker%: possibly delisted; no price data found  (period=20y) (Yahoo error = \"Invalid input - interval=4h is not supported. Valid intervals: [1m, 2m, 5m, 15m, 30m, 60m, 90m, 1h, 1d, 5d, 1wk, 1mo, 3mo]\")')\n"
     ]
    },
    {
     "name": "stdout",
     "output_type": "stream",
     "text": [
      "Warning: No data fetched for US30 at 4h timeframe.\n"
     ]
    },
    {
     "name": "stderr",
     "output_type": "stream",
     "text": [
      "[*********************100%***********************]  1 of 1 completed\n",
      "\n",
      "1 Failed download:\n",
      "['US30']: YFPricesMissingError('$%ticker%: possibly delisted; no price data found  (period=20y) (Yahoo error = \"No data found, symbol may be delisted\")')\n"
     ]
    },
    {
     "name": "stdout",
     "output_type": "stream",
     "text": [
      "Warning: No data fetched for US30 at 1d timeframe.\n"
     ]
    },
    {
     "name": "stderr",
     "output_type": "stream",
     "text": [
      "[*********************100%***********************]  1 of 1 completed\n",
      "\n",
      "1 Failed download:\n",
      "['US30']: YFPricesMissingError('$%ticker%: possibly delisted; no price data found  (period=20y) (Yahoo error = \"No data found, symbol may be delisted\")')\n"
     ]
    },
    {
     "name": "stdout",
     "output_type": "stream",
     "text": [
      "Warning: No data fetched for US30 at 1wk timeframe.\n"
     ]
    },
    {
     "name": "stderr",
     "output_type": "stream",
     "text": [
      "[*********************100%***********************]  1 of 1 completed\n",
      "\n",
      "1 Failed download:\n",
      "['GBPUSD']: YFPricesMissingError('$%ticker%: possibly delisted; no price data found  (period=20y) (Yahoo error = \"No data found, symbol may be delisted\")')\n"
     ]
    },
    {
     "name": "stdout",
     "output_type": "stream",
     "text": [
      "Warning: No data fetched for GBPUSD at 1h timeframe.\n"
     ]
    },
    {
     "name": "stderr",
     "output_type": "stream",
     "text": [
      "[*********************100%***********************]  1 of 1 completed\n",
      "\n",
      "1 Failed download:\n",
      "['GBPUSD']: YFPricesMissingError('$%ticker%: possibly delisted; no price data found  (period=20y) (Yahoo error = \"Invalid input - interval=4h is not supported. Valid intervals: [1m, 2m, 5m, 15m, 30m, 60m, 90m, 1h, 1d, 5d, 1wk, 1mo, 3mo]\")')\n"
     ]
    },
    {
     "name": "stdout",
     "output_type": "stream",
     "text": [
      "Warning: No data fetched for GBPUSD at 4h timeframe.\n"
     ]
    },
    {
     "name": "stderr",
     "output_type": "stream",
     "text": [
      "[*********************100%***********************]  1 of 1 completed\n",
      "\n",
      "1 Failed download:\n",
      "['GBPUSD']: YFPricesMissingError('$%ticker%: possibly delisted; no price data found  (period=20y) (Yahoo error = \"No data found, symbol may be delisted\")')\n"
     ]
    },
    {
     "name": "stdout",
     "output_type": "stream",
     "text": [
      "Warning: No data fetched for GBPUSD at 1d timeframe.\n"
     ]
    },
    {
     "name": "stderr",
     "output_type": "stream",
     "text": [
      "[*********************100%***********************]  1 of 1 completed\n",
      "\n",
      "1 Failed download:\n",
      "['GBPUSD']: YFPricesMissingError('$%ticker%: possibly delisted; no price data found  (period=20y) (Yahoo error = \"No data found, symbol may be delisted\")')\n"
     ]
    },
    {
     "name": "stdout",
     "output_type": "stream",
     "text": [
      "Warning: No data fetched for GBPUSD at 1wk timeframe.\n",
      "Warning: Some files were not saved correctly:\n",
      "- ./Data/Raw/XAUUSD_1h.csv\n",
      "- ./Data/Raw/XAUUSD_4h.csv\n",
      "- ./Data/Raw/XAUUSD_1d.csv\n",
      "- ./Data/Raw/XAUUSD_1wk.csv\n",
      "- ./Data/Raw/US30_1h.csv\n",
      "- ./Data/Raw/US30_4h.csv\n",
      "- ./Data/Raw/US30_1d.csv\n",
      "- ./Data/Raw/US30_1wk.csv\n",
      "- ./Data/Raw/GBPUSD_1h.csv\n",
      "- ./Data/Raw/GBPUSD_4h.csv\n",
      "- ./Data/Raw/GBPUSD_1d.csv\n",
      "- ./Data/Raw/GBPUSD_1wk.csv\n"
     ]
    }
   ],
   "source": [
    "def fetch_data(pair, timeframes):\n",
    "    for timeframe in timeframes:\n",
    "        # Fetch data\n",
    "        try:\n",
    "            df = yf.download(pair, period=\"20y\", interval=timeframe)\n",
    "            \n",
    "            # Check if data is fetched\n",
    "            if df.empty:\n",
    "                print(f\"Warning: No data fetched for {pair} at {timeframe} timeframe.\")\n",
    "                continue  # Skip saving empty DataFrame\n",
    "            \n",
    "            # Save each df as CSV in Raw\n",
    "            df.to_csv(os.path.join(data_dir, f\"{pair}_{timeframe}.csv\"))\n",
    "            print(f\"Data for {pair} at {timeframe} saved successfully.\")\n",
    "        \n",
    "        except Exception as e:\n",
    "            print(f\"Error fetching data for {pair} at {timeframe}: {e}\")\n",
    "\n",
    "# Fetch data for all pairs and timeframes and save to CSV\n",
    "for pair, timeframes in pairs.items():\n",
    "    fetch_data(pair, timeframes)\n",
    "\n",
    "# Final check to ensure all files are saved\n",
    "missing_files = []\n",
    "\n",
    "for pair, timeframes in pairs.items():\n",
    "    for timeframe in timeframes:\n",
    "        file_path = os.path.join(data_dir, f\"{pair}_{timeframe}.csv\")\n",
    "        if not os.path.exists(file_path):\n",
    "            missing_files.append(file_path)\n",
    "\n",
    "if missing_files:\n",
    "    print(\"Warning: Some files were not saved correctly:\")\n",
    "    for file in missing_files:\n",
    "        print(f\"- {file}\")\n",
    "else:\n",
    "    print(\"Data fetched and saved successfully for all pairs and timeframes.\")"
   ]
  }
 ],
 "metadata": {
  "kernelspec": {
   "display_name": "Trading_bot",
   "language": "python",
   "name": "trading_bot"
  },
  "language_info": {
   "codemirror_mode": {
    "name": "ipython",
    "version": 3
   },
   "file_extension": ".py",
   "mimetype": "text/x-python",
   "name": "python",
   "nbconvert_exporter": "python",
   "pygments_lexer": "ipython3",
   "version": "3.11.10"
  }
 },
 "nbformat": 4,
 "nbformat_minor": 5
}
