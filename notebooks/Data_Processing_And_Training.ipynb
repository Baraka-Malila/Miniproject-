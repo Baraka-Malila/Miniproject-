{
 "cells": [
  {
   "cell_type": "markdown",
   "id": "6df45a81-79af-4d95-b91b-0f15b447bf5b",
   "metadata": {},
   "source": [
    "# **DATA PROCESSING AND MODEL TRAINING**"
   ]
  },
  {
   "cell_type": "markdown",
   "id": "7e21d999-1a1c-4122-9f63-8306647be472",
   "metadata": {},
   "source": [
    "### Load the data into RAM"
   ]
  },
  {
   "cell_type": "markdown",
   "id": "b6113718-842a-4196-8ecd-6ca305fbad20",
   "metadata": {},
   "source": [
    "## TODO MORE PROCESSING AND FEATURE ENG....."
   ]
  },
  {
   "cell_type": "code",
   "execution_count": 1,
   "id": "6adcc75d-45dd-417d-9429-18685a565e07",
   "metadata": {},
   "outputs": [],
   "source": [
    "# BEFORE TRAINING\n",
    "#import pandas as pd\n",
    "\n",
    "# Path to the preprocessed data\n",
    "#preprocessed_file_path = \"Data/Preprocessed/XAU_1h_preprocessed_2004_to_2024.csv\"\n",
    "\n",
    "# Load the preprocessed data into a pandas DataFrame\n",
    "#df_train = pd.read_csv(preprocessed_file_path)\n",
    "\n",
    "# Display the first few rows to confirm\n",
    "#print(df_train.head())"
   ]
  }
 ],
 "metadata": {
  "kernelspec": {
   "display_name": "Python 3 (ipykernel)",
   "language": "python",
   "name": "python3"
  },
  "language_info": {
   "codemirror_mode": {
    "name": "ipython",
    "version": 3
   },
   "file_extension": ".py",
   "mimetype": "text/x-python",
   "name": "python",
   "nbconvert_exporter": "python",
   "pygments_lexer": "ipython3",
   "version": "3.11.10"
  }
 },
 "nbformat": 4,
 "nbformat_minor": 5
}
