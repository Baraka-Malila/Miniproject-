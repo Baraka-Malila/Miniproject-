{
 "cells": [
  {
   "cell_type": "code",
   "execution_count": 1,
   "id": "141d7d49-5e3f-497d-b0db-4424941477ba",
   "metadata": {},
   "outputs": [
    {
     "name": "stdout",
     "output_type": "stream",
     "text": [
      "/home/cyberpunk/miniconda3/envs/Model_deployment/bin/python\n"
     ]
    }
   ],
   "source": [
    "!which python"
   ]
  },
  {
   "cell_type": "markdown",
   "id": "12029100-829f-4767-9800-5f7266b1a392",
   "metadata": {},
   "source": [
    "## **TRAINING A NEURAL NETWORKS MODEL**"
   ]
  },
  {
   "cell_type": "markdown",
   "id": "629928df-f688-4ede-91b9-81b20b0846e5",
   "metadata": {},
   "source": [
    "### Load the libraries"
   ]
  },
  {
   "cell_type": "code",
   "execution_count": null,
   "id": "62efdef0-ded4-4e7e-b050-875b257e31d8",
   "metadata": {},
   "outputs": [],
   "source": [
    "import pandas as pd\n",
    "import numpy as np\n",
    "import tensorflow as tf\n",
    "from tensorflow import keras\n",
    "from sklearn.model_selection import train_test_split\n",
    "from sklearn.preprocessing import StandardScaler\n",
    "import matplotlib.pyplot as plt\n",
    "import seaborn as sns\n",
    "import talib\n",
    "from scipy import stats"
   ]
  },
  {
   "cell_type": "markdown",
   "id": "e21b219a-f109-4bb8-bddf-1c221ae5f843",
   "metadata": {},
   "source": [
    "### Load the processed data"
   ]
  },
  {
   "cell_type": "code",
   "execution_count": null,
   "id": "0e5c8398-17e3-40b2-acfc-7a649387bd63",
   "metadata": {},
   "outputs": [],
   "source": [
    "# Loading the processed data\n",
    "processed_file_path = '/home/cyberpunk/Trading_bot_v1.0/Data/Processed/XAU_1h_processed_2004_to_2024.csv'\n",
    "processed_data = pd.read_csv(processed_file_path, index_col='Time', parse_dates=True)\n",
    "\n",
    "# Checking the first few rows to ensure the data is loaded correctly\n",
    "print(processed_data.head())"
   ]
  },
  {
   "cell_type": "code",
   "execution_count": null,
   "id": "49150a40-d806-4ce9-b602-7aa0e81f1d35",
   "metadata": {},
   "outputs": [],
   "source": []
  }
 ],
 "metadata": {
  "kernelspec": {
   "display_name": "Python (Model_deployment)",
   "language": "python",
   "name": "model_deployment"
  },
  "language_info": {
   "codemirror_mode": {
    "name": "ipython",
    "version": 3
   },
   "file_extension": ".py",
   "mimetype": "text/x-python",
   "name": "python",
   "nbconvert_exporter": "python",
   "pygments_lexer": "ipython3",
   "version": "3.8.20"
  }
 },
 "nbformat": 4,
 "nbformat_minor": 5
}
