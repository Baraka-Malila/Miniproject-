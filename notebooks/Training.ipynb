{
 "cells": [
  {
   "cell_type": "code",
   "execution_count": 1,
   "id": "141d7d49-5e3f-497d-b0db-4424941477ba",
   "metadata": {},
   "outputs": [
    {
     "name": "stdout",
     "output_type": "stream",
     "text": [
      "/home/cyberpunk/miniconda3/envs/Trading_bot/bin/python\n"
     ]
    }
   ],
   "source": [
    "!which python"
   ]
  },
  {
   "cell_type": "markdown",
   "id": "12029100-829f-4767-9800-5f7266b1a392",
   "metadata": {},
   "source": [
    "## **TRAINING A NEURAL NETWORKS MODEL**"
   ]
  },
  {
   "cell_type": "markdown",
   "id": "629928df-f688-4ede-91b9-81b20b0846e5",
   "metadata": {},
   "source": [
    "### Load the libraries"
   ]
  },
  {
   "cell_type": "code",
   "execution_count": 2,
   "id": "62efdef0-ded4-4e7e-b050-875b257e31d8",
   "metadata": {},
   "outputs": [],
   "source": [
    "import pandas as pd\n",
    "import numpy as np\n",
    "#import tensorflow as tf\n",
    "#from tensorflow import keras\n",
    "from sklearn.model_selection import train_test_split\n",
    "from sklearn.preprocessing import StandardScaler\n",
    "import matplotlib.pyplot as plt\n",
    "import seaborn as sns\n",
    "import talib\n",
    "from scipy import stats"
   ]
  },
  {
   "cell_type": "markdown",
   "id": "e21b219a-f109-4bb8-bddf-1c221ae5f843",
   "metadata": {},
   "source": [
    "### Load the processed data"
   ]
  },
  {
   "cell_type": "code",
   "execution_count": 3,
   "id": "0e5c8398-17e3-40b2-acfc-7a649387bd63",
   "metadata": {},
   "outputs": [
    {
     "name": "stdout",
     "output_type": "stream",
     "text": [
      "                      Open        High         Low       Close    Volume  \\\n",
      "Time                                                                       \n",
      "2004-06-13 08:00:00  384.3  384.438182  383.754545  383.754545  9.218182   \n",
      "2004-06-13 09:00:00  384.3  384.441818  383.745455  383.745455  9.381818   \n",
      "2004-06-13 10:00:00  384.3  384.445455  383.736364  383.736364  9.545455   \n",
      "2004-06-13 11:00:00  384.3  384.449091  383.727273  383.727273  9.709091   \n",
      "2004-06-13 12:00:00  384.3  384.452727  383.718182  383.718182  9.872727   \n",
      "\n",
      "                     Time_Diff  Volume_Zscore  50_rolling_avg   Close_t-1  \\\n",
      "Time                                                                        \n",
      "2004-06-13 08:00:00  38.309091      -0.740530      383.883273  383.763636   \n",
      "2004-06-13 09:00:00  39.290909      -0.740484      383.882182  383.754545   \n",
      "2004-06-13 10:00:00  40.272727      -0.740438      383.894909  383.745455   \n",
      "2004-06-13 11:00:00  41.254545      -0.740392      383.907455  383.736364   \n",
      "2004-06-13 12:00:00  42.236364      -0.740346      383.909818  383.727273   \n",
      "\n",
      "                      Close_t-2  ...  Rolling_STD  Bollinger_Upper  \\\n",
      "Time                             ...                                 \n",
      "2004-06-13 08:00:00  383.772727  ...     0.053783       383.948474   \n",
      "2004-06-13 09:00:00  383.763636  ...     0.053783       383.939383   \n",
      "2004-06-13 10:00:00  383.754545  ...     0.053783       383.930292   \n",
      "2004-06-13 11:00:00  383.745455  ...     0.053783       383.921201   \n",
      "2004-06-13 12:00:00  383.736364  ...     0.053783       383.912111   \n",
      "\n",
      "                     Bollinger_Lower      EMA_12      EMA_26        RSI  \\\n",
      "Time                                                                      \n",
      "2004-06-13 08:00:00       383.733344  383.804106  383.847109  38.963637   \n",
      "2004-06-13 09:00:00       383.724253  383.795083  383.839579  38.117745   \n",
      "2004-06-13 10:00:00       383.715162  383.786049  383.831934  37.246921   \n",
      "2004-06-13 11:00:00       383.706071  383.777007  383.824181  36.352540   \n",
      "2004-06-13 12:00:00       383.696980  383.767957  383.816329  35.436185   \n",
      "\n",
      "                         MACD  MACD_Signal         SlowK         SlowD  \n",
      "Time                                                                    \n",
      "2004-06-13 08:00:00 -0.035129    -0.021942 -4.736952e-15  3.157968e-15  \n",
      "2004-06-13 09:00:00 -0.037241    -0.025002 -4.736952e-15  3.157968e-15  \n",
      "2004-06-13 10:00:00 -0.039196    -0.027841 -4.736952e-15  3.157968e-15  \n",
      "2004-06-13 11:00:00 -0.041006    -0.030474 -4.736952e-15  3.157968e-15  \n",
      "2004-06-13 12:00:00 -0.042683    -0.032916 -4.736952e-15  3.157968e-15  \n",
      "\n",
      "[5 rows x 30 columns]\n"
     ]
    }
   ],
   "source": [
    "# Loading the processed data\n",
    "processed_file_path = '/home/cyberpunk/Trading_bot_v1.0/Data/Processed/XAU_1h_processed_2004_to_2024.csv'\n",
    "processed_data = pd.read_csv(processed_file_path, index_col='Time', parse_dates=True)\n",
    "\n",
    "# Checking the first few rows to ensure the data is loaded correctly\n",
    "print(processed_data.head())"
   ]
  },
  {
   "cell_type": "code",
   "execution_count": null,
   "id": "49150a40-d806-4ce9-b602-7aa0e81f1d35",
   "metadata": {},
   "outputs": [],
   "source": []
  }
 ],
 "metadata": {
  "kernelspec": {
   "display_name": "Trading_bot",
   "language": "python",
   "name": "trading_bot"
  },
  "language_info": {
   "codemirror_mode": {
    "name": "ipython",
    "version": 3
   },
   "file_extension": ".py",
   "mimetype": "text/x-python",
   "name": "python",
   "nbconvert_exporter": "python",
   "pygments_lexer": "ipython3",
   "version": "3.11.10"
  }
 },
 "nbformat": 4,
 "nbformat_minor": 5
}
